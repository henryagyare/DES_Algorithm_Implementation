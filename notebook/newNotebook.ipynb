{
 "cells": [
  {
   "cell_type": "code",
   "execution_count": 24,
   "metadata": {},
   "outputs": [
    {
     "name": "stdout",
     "output_type": "stream",
     "text": [
      "64-bit binary representation of the text: 0000000001010011011011110110110001100100011010010110010101110010\n",
      "64\n"
     ]
    }
   ],
   "source": [
    "def text_to_64bit_binary(text):\n",
    "    binary_string = \"\"\n",
    "    for char in text:\n",
    "        binary_char = bin(ord(char))[2:].zfill(8)  # Convert character to binary (padded to 8 bits)\n",
    "        binary_string += binary_char\n",
    "    \n",
    "    # If the binary string is longer than 64 bits, truncate it\n",
    "    if len(binary_string) > 64:\n",
    "        binary_string = binary_string[:64]\n",
    "    \n",
    "    # If the binary string is shorter than 64 bits, pad it with leading zeros\n",
    "    elif len(binary_string) < 64:\n",
    "        binary_string = binary_string.zfill(64)\n",
    "\n",
    "    return binary_string\n",
    "\n",
    "# Example usage:\n",
    "text = \"Soldier\"\n",
    "binary_text = text_to_64bit_binary(text)\n",
    "print(\"64-bit binary representation of the text:\", binary_text)\n",
    "print(len(binary_text))\n",
    "\n"
   ]
  },
  {
   "cell_type": "code",
   "execution_count": 86,
   "metadata": {},
   "outputs": [
    {
     "name": "stdout",
     "output_type": "stream",
     "text": [
      "64-bit binary representation of the text: 0000000001010011011011110110110001100100011010010110010101110010\n",
      "64\n"
     ]
    }
   ],
   "source": [
    "def textToBinary(text):\n",
    "    binary_string = \"\"\n",
    "    for char in text:\n",
    "        binary_char = bin(ord(char))[2:].zfill(8)  # Convert character to binary (padded to 8 bits)\n",
    "        binary_string += binary_char\n",
    "    \n",
    "    # If the binary string is longer than 64 bits, truncate it\n",
    "    if len(binary_string) > 64:\n",
    "        binary_string = binary_string[:64]\n",
    "    \n",
    "    # If the binary string is shorter than 64 bits, pad it with leading zeros\n",
    "    elif len(binary_string) < 64:\n",
    "        binary_string = binary_string.zfill(64)\n",
    "\n",
    "    return binary_string\n",
    "\n",
    "# Example usage:\n",
    "text = \"Soldier\"\n",
    "binary_text = text_to_64bit_binary(text)\n",
    "print(\"64-bit binary representation of the text:\", binary_text)\n",
    "print(len(binary_text))\n",
    "\n"
   ]
  },
  {
   "cell_type": "code",
   "execution_count": 37,
   "metadata": {},
   "outputs": [
    {
     "name": "stdout",
     "output_type": "stream",
     "text": [
      "Initial permuted data: 1111111010000010010111000110011000000000111111000010110010000110\n"
     ]
    }
   ],
   "source": [
    "def initial_permutation(data):\n",
    "    # Initial permutation table (IP)\n",
    "    ip_table = [\n",
    "        [58, 50, 42, 34, 26, 18, 10, 2], [60, 52, 44, 36, 28, 20, 12, 4], [62, 54, 46, 38, 30, 22, 14, 6],\n",
    "        [64, 56, 48, 40, 32, 24, 16, 8], [57, 49, 41, 33, 25, 17, 9, 1], [59, 51, 43, 35, 27, 19, 11, 3],\n",
    "        [61, 53, 45, 37, 29, 21, 13, 5], [63, 55, 47, 39, 31, 23, 15, 7]\n",
    "    ]\n",
    "\n",
    "    \n",
    "    # Perform initial permutation\n",
    "    # permuted_data = ''.join([data[i - 1] for i in ip_table])\n",
    "    permuted_data = ''.join([data[i - 1] for sublist in ip_table for i in sublist])\n",
    "    return permuted_data\n",
    "\n",
    "# Example usage:\n",
    "data = binary_text\n",
    "initial_permuted_data = initial_permutation(data)\n",
    "print(\"Initial permuted data:\", initial_permuted_data)\n"
   ]
  },
  {
   "cell_type": "code",
   "execution_count": 38,
   "metadata": {},
   "outputs": [
    {
     "name": "stdout",
     "output_type": "stream",
     "text": [
      "Text: þ\\f\u0000ü,\n",
      "8\n"
     ]
    }
   ],
   "source": [
    "def binary_to_text(binary_string):\n",
    "    binary_string = binary_string.replace(\" \", \"\")\n",
    "    # Split the binary string into 8-bit chunks\n",
    "    chunks = [binary_string[i:i+8] for i in range(0, len(binary_string), 8)]\n",
    "    # print(chunks)\n",
    "    \n",
    "    # Convert each 8-bit chunk to its corresponding ASCII character\n",
    "    text = ''.join([chr(int(chunk, 2)) for chunk in chunks])\n",
    "    \n",
    "    return text\n",
    "\n",
    "\n",
    "# Example usage:\n",
    "# binary_string = \"01001000 01100101 01101100 01101100 01101111\"\n",
    "binary_string = str(initial_permuted_data)\n",
    "# text = binary_to_text(binary_string.replace(\" \", \"\"))\n",
    "text = binary_to_text(binary_string)\n",
    "print(\"Text:\", text)\n"
   ]
  },
  {
   "cell_type": "code",
   "execution_count": null,
   "metadata": {},
   "outputs": [],
   "source": []
  },
  {
   "cell_type": "code",
   "execution_count": 98,
   "metadata": {},
   "outputs": [
    {
     "name": "stdout",
     "output_type": "stream",
     "text": [
      "1100100000000001001010001000000000000101111111111110110100000000\n",
      "<class 'str'>\n"
     ]
    }
   ],
   "source": [
    "def initPerm(data):\n",
    "    # print(f\"data = {data}\")\n",
    "    # Initial permutation table (IP)\n",
    "    ip_table = [\n",
    "        [58, 50, 42, 34, 26, 18, 10, 2], \n",
    "        [60, 52, 44, 36, 28, 20, 12, 4], \n",
    "        [62, 54, 46, 38, 30, 22, 14, 6],\n",
    "        [64, 56, 48, 40, 32, 24, 16, 8], \n",
    "        [57, 49, 41, 33, 25, 17, 9, 1], \n",
    "        [59, 51, 43, 35, 27, 19, 11, 3],\n",
    "        [61, 53, 45, 37, 29, 21, 13, 5], \n",
    "        [63, 55, 47, 39, 31, 23, 15, 7]\n",
    "    ]\n",
    "\n",
    "    zerosList = [0] * 64\n",
    "    \n",
    "    position = 0\n",
    "    for i in ip_table:\n",
    "        for j in i:\n",
    "            # print(data[j - 1])\n",
    "            # print(f\"data[{position}] = {data[position]}\")\n",
    "            zerosList[j - 1] = data[position]\n",
    "            # print(f\"zerosList[{j}] = {zerosList[j - 1]}\")\n",
    "            position += 1\n",
    "    \n",
    "    zerosListStr = \"\".join(zerosList)\n",
    "    return zerosListStr\n",
    "\n",
    "\n",
    "print(initPerm(text_to_64bit_binary(\"a pride of lions\")))\n",
    "print(type(initPerm(text_to_64bit_binary(\"a pride of lions\"))))\n"
   ]
  },
  {
   "cell_type": "code",
   "execution_count": 118,
   "metadata": {},
   "outputs": [
    {
     "name": "stdout",
     "output_type": "stream",
     "text": [
      "length of textToBinary(Bayern Munich) = 64\n"
     ]
    },
    {
     "ename": "IndexError",
     "evalue": "list assignment index out of range",
     "output_type": "error",
     "traceback": [
      "\u001b[1;31m---------------------------------------------------------------------------\u001b[0m",
      "\u001b[1;31mIndexError\u001b[0m                                Traceback (most recent call last)",
      "Cell \u001b[1;32mIn[118], line 38\u001b[0m\n\u001b[0;32m     34\u001b[0m     \u001b[38;5;28;01mreturn\u001b[39;00m PC1_val\n\u001b[0;32m     37\u001b[0m \u001b[38;5;28mprint\u001b[39m(\u001b[38;5;124mf\u001b[39m\u001b[38;5;124m\"\u001b[39m\u001b[38;5;124mlength of textToBinary(Bayern Munich) = \u001b[39m\u001b[38;5;132;01m{\u001b[39;00m\u001b[38;5;28mlen\u001b[39m(textToBinary(\u001b[38;5;124m'\u001b[39m\u001b[38;5;124mBayern Munich\u001b[39m\u001b[38;5;124m'\u001b[39m))\u001b[38;5;132;01m}\u001b[39;00m\u001b[38;5;124m\"\u001b[39m)\n\u001b[1;32m---> 38\u001b[0m \u001b[43mpermutationChoice1\u001b[49m\u001b[43m(\u001b[49m\u001b[43mtextToBinary\u001b[49m\u001b[43m(\u001b[49m\u001b[38;5;124;43m\"\u001b[39;49m\u001b[38;5;124;43mBayern Munich\u001b[39;49m\u001b[38;5;124;43m\"\u001b[39;49m\u001b[43m)\u001b[49m\u001b[43m)\u001b[49m\n",
      "Cell \u001b[1;32mIn[118], line 27\u001b[0m, in \u001b[0;36mpermutationChoice1\u001b[1;34m(key_data)\u001b[0m\n\u001b[0;32m     23\u001b[0m \u001b[38;5;28;01mfor\u001b[39;00m i \u001b[38;5;129;01min\u001b[39;00m PC1_table:\n\u001b[0;32m     24\u001b[0m     \u001b[38;5;28;01mfor\u001b[39;00m j \u001b[38;5;129;01min\u001b[39;00m i:\n\u001b[0;32m     25\u001b[0m         \u001b[38;5;66;03m# print(data[j - 1])\u001b[39;00m\n\u001b[0;32m     26\u001b[0m         \u001b[38;5;66;03m# print(f\"data[{position}] = {data[position]}\")\u001b[39;00m\n\u001b[1;32m---> 27\u001b[0m         \u001b[43mzerosList\u001b[49m\u001b[43m[\u001b[49m\u001b[43mj\u001b[49m\u001b[43m \u001b[49m\u001b[38;5;241;43m-\u001b[39;49m\u001b[43m \u001b[49m\u001b[38;5;241;43m1\u001b[39;49m\u001b[43m]\u001b[49m \u001b[38;5;241m=\u001b[39m key_data[position]\n\u001b[0;32m     28\u001b[0m         \u001b[38;5;66;03m# print(f\"zerosList[{j}] = {zerosList[j - 1]}\")\u001b[39;00m\n\u001b[0;32m     29\u001b[0m         position \u001b[38;5;241m+\u001b[39m\u001b[38;5;241m=\u001b[39m \u001b[38;5;241m1\u001b[39m\n",
      "\u001b[1;31mIndexError\u001b[0m: list assignment index out of range"
     ]
    }
   ],
   "source": [
    "def permutationChoice1(key_data):\n",
    "    PC1_table = [\n",
    "        [57, 49, 41, 33, 25, 17, 9], \n",
    "        [1, 58, 50, 42, 34, 26, 18], \n",
    "        [10, 2, 59, 51, 43, 35, 27], \n",
    "        [19, 11, 3, 60, 52, 44, 36],\n",
    "        [63, 55, 47, 39, 31, 23, 15], \n",
    "        [7, 62, 54, 46, 38, 30, 22],\n",
    "        [14, 6, 61, 53, 45, 37, 29], \n",
    "        [21, 13, 5, 28, 20, 12, 4]\n",
    "    ]\n",
    "    \n",
    "\n",
    "    zerosList = [0] * 56    \n",
    "    # zerosList = [0] * (len(PC1_table) * len(PC1_table[1]))\n",
    "    # print(len(zerosList))   # length = 56\n",
    "\n",
    "for i in range(len(PC1_table)): \n",
    "\n",
    "    position = 0\n",
    "    for i in PC1_table:\n",
    "        for j in i:\n",
    "            # print(data[j - 1])\n",
    "            # print(f\"data[{position}] = {data[position]}\")\n",
    "            zerosList[j - 1] = key_data[position]\n",
    "            # print(f\"zerosList[{j}] = {zerosList[j - 1]}\")\n",
    "            position += 1\n",
    "\n",
    "    print(f\"length = {position}\")\n",
    "\n",
    "    PC1_val = \"\".join(str(bit) for bit in zerosList)\n",
    "    return PC1_val\n",
    "\n",
    "\n",
    "print(f\"length of textToBinary(Bayern Munich) = {len(textToBinary('Bayern Munich'))}\")\n",
    "permutationChoice1(textToBinary(\"Bayern Munich\"))"
   ]
  },
  {
   "cell_type": "code",
   "execution_count": 145,
   "metadata": {},
   "outputs": [
    {
     "name": "stdout",
     "output_type": "stream",
     "text": [
      "01100011000111000001100100000010001011111011111010000100\n"
     ]
    }
   ],
   "source": [
    "PC1_table = [\n",
    "    [57, 49, 41, 33, 25, 17, 9], \n",
    "    [1, 58, 50, 42, 34, 26, 18], \n",
    "    [10, 2, 59, 51, 43, 35, 27], \n",
    "    [19, 11, 3, 60, 52, 44, 36],\n",
    "    [63, 55, 47, 39, 31, 23, 15], \n",
    "    [7, 62, 54, 46, 38, 30, 22],\n",
    "    [14, 6, 61, 53, 45, 37, 29], \n",
    "    [21, 13, 5, 28, 20, 12, 4]\n",
    "]\n",
    "\n",
    "key_data = textToBinary(\"Bayern Munich\")\n",
    "\n",
    "zerosList = [0] * 64\n",
    "position = 0\n",
    "for i in PC1_table:\n",
    "    for j in i:\n",
    "        # print(j)\n",
    "        zerosList[j - 1] = key_data[position]\n",
    "        # print(f\"zerosList[{j} = {key_data[position]}]\")\n",
    "        position += 1\n",
    "\n",
    "indexes_to_remove = [7, 15, 23, 31, 39, 47, 55, 63]\n",
    "\n",
    "# Create a new list excluding values at specified indexes\n",
    "new_zerosList = [zerosList[i] for i in range(len(zerosList)) if i not in indexes_to_remove]\n",
    "\n",
    "PC1_val = \"\".join(new_zerosList)\n",
    "# return PC1_val\n",
    "\n",
    "\n",
    "print(PC1_val)\n",
    "# print(new_zerosList)\n",
    "# print(len(new_zerosList))\n",
    "\n"
   ]
  },
  {
   "cell_type": "code",
   "execution_count": 10,
   "metadata": {},
   "outputs": [
    {
     "name": "stdout",
     "output_type": "stream",
     "text": [
      "Original binary string: 10101011\n",
      "Left circular shifted binary string: 10101011\n"
     ]
    }
   ],
   "source": [
    "def left_circular_shift(binary_string, shift_amount):\n",
    "    # Calculate the actual shift amount considering circular shift\n",
    "    shift_amount %= len(binary_string)\n",
    "    \n",
    "    # Perform left circular shift using slicing\n",
    "    shifted_string = binary_string[shift_amount:] + binary_string[:shift_amount]\n",
    "    \n",
    "    return shifted_string\n",
    "\n",
    "# Example usage:\n",
    "binary_string = \"10101011\"\n",
    "shifted_string = left_circular_shift(binary_string, 10)\n",
    "print(\"Original binary string:\", binary_string)\n",
    "print(\"Left circular shifted binary string:\", shifted_string)\n"
   ]
  },
  {
   "cell_type": "code",
   "execution_count": 9,
   "metadata": {},
   "outputs": [
    {
     "data": {
      "text/plain": [
       "'12345678'"
      ]
     },
     "execution_count": 9,
     "metadata": {},
     "output_type": "execute_result"
    }
   ],
   "source": [
    "PC2_table = [\n",
    "    [14, 17, 11, 24, 1, 5], \n",
    "    [3, 28, 15, 6, 21, 10], \n",
    "    [23, 19, 12, 4, 26, 8], \n",
    "    [16, 7, 27, 20, 13, 2], \n",
    "    [41, 52, 31, 37, 47, 55],\n",
    "    [30, 40, 51, 45, 33, 48], \n",
    "    [44, 49, 39, 56, 34, 53], \n",
    "    [46, 42, 50, 36, 29, 32]\n",
    "]\n",
    "\n",
    "zerosList = [0] * 64\n",
    "position = 0\n",
    "for i in PC2_table:\n",
    "    for j in i:\n",
    "        # print(j)\n",
    "        zerosList[j - 1] = key_data[position]\n",
    "        # print(f\"zerosList[{j} = {key_data[position]}]\")\n",
    "        position += 1\n",
    "\n",
    "indexes_to_remove = [7, 15, 23, 31, 39, 47, 55, 63]\n",
    "\n",
    "# Create a new list excluding values at specified indexes\n",
    "new_zerosList = [zerosList[i] for i in range(len(zerosList)) if i not in indexes_to_remove]\n",
    "\n",
    "PC2_val = \"\".join(new_zerosList)\n",
    "\n",
    "\n",
    "\n",
    "\n"
   ]
  },
  {
   "cell_type": "code",
   "execution_count": 21,
   "metadata": {},
   "outputs": [],
   "source": [
    "key_value = \"01100011000111000001100100000010001011111011111010000100\"\n",
    "PC2_table = [\n",
    "    [14, 17, 11, 24, 1, 5], \n",
    "    [3, 28, 15, 6, 21, 10], \n",
    "    [23, 19, 12, 4, 26, 8], \n",
    "    [16, 7, 27, 20, 13, 2], \n",
    "    [41, 52, 31, 37, 47, 55],\n",
    "    [30, 40, 51, 45, 33, 48], \n",
    "    [44, 49, 39, 56, 34, 53], \n",
    "    [46, 42, 50, 36, 29, 32]\n",
    "]\n",
    "\n",
    "PC2_content = []\n",
    "for i in PC2_table: \n",
    "    for j in i: \n",
    "        PC2_content.append(j)\n",
    "\n",
    "# print(PC2_content)\n",
    "\n",
    "zerosList = [0] * max(PC2_content)\n",
    "position = 0\n",
    "\n",
    "for i in PC2_content:\n",
    "    zerosList[i-1] = key_value[position]\n",
    "    position += 1\n",
    "\n",
    "\n",
    "indexes_to_remove = [8, 17, 21, 24, 34, 37, 42, 53]\n",
    "\n",
    "# Create a new list excluding values at specified indexes\n",
    "new_zerosList = [zerosList[i] for i in range(len(zerosList)) if i not in indexes_to_remove]\n",
    "\n",
    "PC2_val = \"\".join(new_zerosList)\n",
    "\n",
    "return PC2_val\n",
    "\n",
    "    \n"
   ]
  },
  {
   "cell_type": "code",
   "execution_count": null,
   "metadata": {},
   "outputs": [],
   "source": [
    "rotationSequence = [1, 1, 2, 2, 2, 2, 2, 2, 1, 2, 2, 2, 2, 2, 2, 1]"
   ]
  },
  {
   "cell_type": "code",
   "execution_count": 25,
   "metadata": {},
   "outputs": [
    {
     "data": {
      "text/plain": [
       "'0101011101101001011011000110010001001011011001010111100100110001'"
      ]
     },
     "execution_count": 25,
     "metadata": {},
     "output_type": "execute_result"
    }
   ],
   "source": [
    "text_to_64bit_binary(\"WildKey123\")"
   ]
  },
  {
   "cell_type": "code",
   "execution_count": 4,
   "metadata": {},
   "outputs": [],
   "source": [
    "expansion_data = \"11011001000000100010111110111110\"\n",
    "expansion_table = [\n",
    "    [32, 1, 2, 3, 4, 5], \n",
    "    [4, 5, 6, 7, 8, 9], \n",
    "    [8, 9, 10, 11, 12, 13], \n",
    "    [12, 13, 14, 15, 16, 17], \n",
    "    [16, 17, 18, 19, 20, 21],\n",
    "    [20, 21, 22, 23, 24, 25], \n",
    "    [24, 25, 26, 27, 28, 29], \n",
    "    [28, 29, 30, 31, 32, 1]\n",
    "]\n",
    "\n",
    "expansion_table_content = []\n",
    "for i in expansion_table:\n",
    "    for j in i:\n",
    "        expansion_table_content.append(j)\n",
    "\n",
    "zerosList = [0] * len(expansion_table_content)\n",
    "# print(f\"length of expansion table content = {len(expansion_table_content)}\")\n",
    "\n",
    "position = 0\n",
    "for i in expansion_table_content: \n",
    "    # print(i)\n",
    "    zerosList[position] = expansion_data[i - 1]\n",
    "    position += 1\n",
    "\n",
    "expansion_string = \"\".join(zerosList)\n",
    "\n",
    "# print(expansion_string)\n",
    "# print(len(expansion_string))"
   ]
  },
  {
   "cell_type": "code",
   "execution_count": 19,
   "metadata": {},
   "outputs": [
    {
     "name": "stdout",
     "output_type": "stream",
     "text": [
      "['011011', '110010', '100000', '000100', '000101', '011111']\n",
      "Substituted output: 1100\n"
     ]
    }
   ],
   "source": [
    "# Substitution Box Operation: \n",
    "S1 = [\n",
    "    [14, 4, 13, 1, 2, 15, 11, 8, 3, 10, 6, 12, 5, 9, 0, 7], \n",
    "    [0, 15, 7, 4, 14, 2, 13, 1, 10, 6, 12, 11, 9, 5, 3, 8],\n",
    "    [4, 1, 14, 8, 13, 6, 2, 11, 15, 12, 9, 7, 3, 10, 5, 0], \n",
    "    [15, 12, 8, 2, 4, 9, 1, 7, 5, 11, 3, 14, 10, 0, 6, 13]\n",
    "]\n",
    "\n",
    "# Separating 48-bit value into 6 bit chunks\n",
    "subVal = \"011011110010100000000100000101011111110111111101\"\n",
    "\n",
    "i = 0\n",
    "chunksArray = []\n",
    "while i < 6:\n",
    "    chunksArray.append(\"\".join(list(subVal[(0+(6*i)) : (6 + (6*i))])))    \n",
    "    i += 1\n",
    "print(chunksArray)\n",
    "    \n",
    "\n",
    "def substitute(subBox, subData):\n",
    "    # Convert the binary input to row and column indices\n",
    "    row = int(subData[0] + subData[5], 2)  # Row bits (1st and 6th bits)\n",
    "    col = int(subData[1:5], 2)  # Column bits (bits 2 to 5)\n",
    "\n",
    "    # Perform table lookup in the specified S-box\n",
    "    substituted_value = subBox[row][col]\n",
    "    \n",
    "    # Convert the substituted value to a 4-bit binary string\n",
    "    substituted_binary = format(substituted_value, '04b')\n",
    "    \n",
    "    return substituted_binary\n",
    "\n",
    "\n",
    "# Example usage with S1\n",
    "substituted_output = substitute(S1, chunksArray[1])\n",
    "print(\"Substituted output:\", substituted_output)\n",
    "\n",
    "\n"
   ]
  },
  {
   "cell_type": "code",
   "execution_count": 14,
   "metadata": {},
   "outputs": [],
   "source": [
    "def xor(x: str, y: str):\n",
    "    x = str(x)\n",
    "    y = str(y)\n",
    "    xorVal = []\n",
    "\n",
    "    if len(x) == len(y):\n",
    "        i = 0\n",
    "        while i < len(x):\n",
    "            # print(x[i])\n",
    "            xorVal.append(str(int(x[i]) ^ int(y[i])))\n",
    "            i += 1\n",
    "    else:\n",
    "        print(\"Values to be xor-ed must have the same length\", end=\" \")\n",
    "\n",
    "    xorVal = \"\".join(xorVal)\n",
    "\n",
    "    return xorVal\n",
    "\n"
   ]
  },
  {
   "cell_type": "code",
   "execution_count": 17,
   "metadata": {},
   "outputs": [
    {
     "data": {
      "text/plain": [
       "'01000010000010001100101001111100'"
      ]
     },
     "execution_count": 17,
     "metadata": {},
     "output_type": "execute_result"
    }
   ],
   "source": [
    "def permutation(permVal):\n",
    "    P = [\n",
    "        [16, 7, 20, 21], \n",
    "        [29, 12, 28, 17], \n",
    "        [1, 15, 23, 26], \n",
    "        [5, 18, 31, 10], \n",
    "        [2, 8, 24, 14], \n",
    "        [32, 27, 3, 9], \n",
    "        [19, 13, 30, 6], \n",
    "        [22, 11, 4, 25]\n",
    "    ]\n",
    "    # Initialize an empty string to store the permuted result\n",
    "    permuted_result = \"\"\n",
    "\n",
    "    # Iterate over each row of the permutation matrix\n",
    "    for row in P:\n",
    "        # Iterate over each position specified in the row\n",
    "        for pos in row:\n",
    "            # Append the bit from the input at the specified position to the permuted result\n",
    "            permuted_result += permVal[pos - 1]  # Subtract 1 because Python indexes start from 0\n",
    "    return permuted_result\n",
    "\n",
    "permutation(\"011011110010100000000100000101011111110111111101\")"
   ]
  },
  {
   "cell_type": "code",
   "execution_count": 27,
   "metadata": {},
   "outputs": [
    {
     "data": {
      "text/plain": [
       "'0100000111101010010011110111101000001011010110110100101100001111'"
      ]
     },
     "execution_count": 27,
     "metadata": {},
     "output_type": "execute_result"
    }
   ],
   "source": [
    "def invPermutation(preCT):\n",
    "    IP_inverse = [\n",
    "        [40, 8, 48, 16, 56, 24, 64, 32], \n",
    "        [39, 7, 47, 15, 55, 23, 63, 31], \n",
    "        [38, 6, 46, 14, 54, 22, 62, 30],\n",
    "        [37, 5, 45, 13, 53, 21, 61, 29], \n",
    "        [36, 4, 44, 12, 52, 20, 60, 28], \n",
    "        [35, 3, 43, 11, 51, 19, 59, 27],\n",
    "        [34, 2, 42, 10, 50, 18, 58, 26], \n",
    "        [33, 1, 41, 9, 49, 17, 57, 25]\n",
    "    ]\n",
    "\n",
    "    # Initialize an empty string to store the inverse permuted result\n",
    "    inv_permuted_result = \"\"\n",
    "\n",
    "    # Iterate over each row of the inverse permutation matrix\n",
    "    for row in IP_inverse:\n",
    "        # Iterate over each position specified in the row\n",
    "        for pos in row:\n",
    "            # Append the bit from the input at the specified position to the inverse permuted result\n",
    "            inv_permuted_result += preCT[pos - 1]  # Subtract 1 because Python indexes start from 0\n",
    "    return inv_permuted_result\n",
    "\n",
    "invPermutation(\"01101111001010001000010011110101000000100000101011111110111111101\")"
   ]
  },
  {
   "cell_type": "code",
   "execution_count": 26,
   "metadata": {},
   "outputs": [
    {
     "data": {
      "text/plain": [
       "17"
      ]
     },
     "execution_count": 26,
     "metadata": {},
     "output_type": "execute_result"
    }
   ],
   "source": [
    "len(\"01000010011110101\")\n"
   ]
  },
  {
   "cell_type": "code",
   "execution_count": 29,
   "metadata": {},
   "outputs": [
    {
     "name": "stdout",
     "output_type": "stream",
     "text": [
      "Binary: 1100000000111100111111000011110011000000111111111111111111000000\n",
      "Hexadecimal: C03CFC3CC0FFFFC0\n"
     ]
    }
   ],
   "source": [
    "def binary_to_hex(binary_string):\n",
    "    # Ensure the binary string length is a multiple of 4\n",
    "    if len(binary_string) % 4 != 0:\n",
    "        binary_string = '0' * (4 - len(binary_string) % 4) + binary_string\n",
    "\n",
    "    # Convert binary string to hexadecimal\n",
    "    hex_string = hex(int(binary_string, 2))[2:]\n",
    "\n",
    "    return hex_string.upper()\n",
    "\n",
    "# Example usage:\n",
    "binary_string = \"1100000000111100111111000011110011000000111111111111111111000000\"\n",
    "hex_representation = binary_to_hex(binary_string)\n",
    "print(\"Binary:\", binary_string)\n",
    "print(\"Hexadecimal:\", hex_representation)\n"
   ]
  },
  {
   "cell_type": "code",
   "execution_count": 1,
   "metadata": {},
   "outputs": [
    {
     "name": "stdout",
     "output_type": "stream",
     "text": [
      "Execution time: 0.718109130859375 seconds\n"
     ]
    }
   ],
   "source": [
    "import time\n",
    "\n",
    "def example_function() -> list:\n",
    "    # Processes in Function\n",
    "    pass\n",
    "\n",
    "\n",
    "start_time = time.time()\n",
    "result = example_function()\n",
    "end_time = time.time()\n",
    "\n",
    "execution_time = end_time - start_time\n",
    "print(\"Execution time:\", execution_time, \"seconds\")\n"
   ]
  }
 ],
 "metadata": {
  "kernelspec": {
   "display_name": "Python 3",
   "language": "python",
   "name": "python3"
  },
  "language_info": {
   "codemirror_mode": {
    "name": "ipython",
    "version": 3
   },
   "file_extension": ".py",
   "mimetype": "text/x-python",
   "name": "python",
   "nbconvert_exporter": "python",
   "pygments_lexer": "ipython3",
   "version": "3.9.5"
  }
 },
 "nbformat": 4,
 "nbformat_minor": 2
}
